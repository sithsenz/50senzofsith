{
  "nbformat": 4,
  "nbformat_minor": 0,
  "metadata": {
    "colab": {
      "provenance": [],
      "authorship_tag": "ABX9TyP5TG42y1pRgyvWzet8pMfB",
      "include_colab_link": true
    },
    "kernelspec": {
      "name": "python3",
      "display_name": "Python 3"
    },
    "language_info": {
      "name": "python"
    }
  },
  "cells": [
    {
      "cell_type": "markdown",
      "metadata": {
        "id": "view-in-github",
        "colab_type": "text"
      },
      "source": [
        "<a href=\"https://colab.research.google.com/github/sithsenz/50senzofsith/blob/main/Kalkulator/Buku_Kerja_MVN.ipynb\" target=\"_parent\"><img src=\"https://colab.research.google.com/assets/colab-badge.svg\" alt=\"Open In Colab\"/></a>"
      ]
    },
    {
      "cell_type": "code",
      "source": [
        "%%capture\n",
        "# @title # Arahan Kerja {\"display-mode\":\"form\"}\n",
        "\n",
        "\n",
        "# @markdown ### 1. Klik pada menu `Runtime` &#9654; `Run all`.\n",
        "\n",
        "\n",
        "# @markdown ### 2. Masukkan bilangan sampel n, bilangan ulangan x dan bilangan ulangan y.\n",
        "\n",
        "\n",
        "# @markdown ### 3. Masukkan data-data x dan y.\n",
        "\n",
        "\n",
        "# @markdown ### 4. Pilih analisis yang diperlukan dan klik pada butang yang berkaitan.\n",
        "\n",
        "\n",
        "import os\n",
        "import sys\n",
        "import ipywidgets as widgets\n",
        "import seaborn as sns\n",
        "\n",
        "\n",
        "if not os.path.exists(\"/content/50senzofsith\"):\n",
        "    !git clone https://github.com/sithsenz/50senzofsith.git\n",
        "\n",
        "!find /content/50senzofsith -mindepth 1 -maxdepth 1 -not -name \"Kalkulator\" -exec rm -rf {} +\n",
        "!find /content/50senzofsith/Kalkulator -mindepth 1 -maxdepth 1 -not -name \"uti.py\" -exec rm -rf {} +\n",
        "\n",
        "\n",
        "sys.path.append(\"/content/50senzofsith/Kalkulator\")\n",
        "\n",
        "\n",
        "from IPython.display import display\n",
        "from uti import BlandAltman, Grid, WLSRegresi, WDRegresi"
      ],
      "metadata": {
        "id": "IiEf85wL0b_p"
      },
      "execution_count": null,
      "outputs": []
    },
    {
      "cell_type": "code",
      "source": [
        "# @title # Data {\"display-mode\":\"form\"}\n",
        "\n",
        "\n",
        "sns.set_theme(context=\"talk\", palette=\"muted\", style=\"whitegrid\")\n",
        "\n",
        "\n",
        "grid_sampel = Grid().sampel()\n",
        "gridDout = widgets.Output()\n",
        "\n",
        "\n",
        "display(grid_sampel)\n",
        "display(gridDout)\n",
        "\n",
        "\n",
        "grid_data = Grid(gridS=grid_sampel, gridO=gridDout)\n",
        "grid_data.data()\n",
        "\n",
        "\n",
        "for i in range(3):\n",
        "    grid_sampel[0,i].observe(grid_data.data, names=\"value\")\n",
        "\n",
        "\n",
        "hasil_analisis = widgets.Output()\n",
        "\n",
        "\n",
        "butang_BAP = widgets.Button(description=\"Bland-Altman Plot\")\n",
        "butang_WLS = widgets.Button(description=\"Weighted Least Square\")\n",
        "butang_WD = widgets.Button(description=\"Weighted Deming\")\n",
        "\n",
        "\n",
        "def plotBA(b):\n",
        "    data = grid_data.ambilData()\n",
        "\n",
        "    with hasil_analisis:\n",
        "        hasil_analisis.clear_output()\n",
        "        BlandAltman(data[\"x\"], data[\"y\"]).plot()\n",
        "\n",
        "\n",
        "def cetakWLS(b):\n",
        "    data = grid_data.ambilData()\n",
        "\n",
        "    with hasil_analisis:\n",
        "        hasil_analisis.clear_output()\n",
        "        WLSRegresi(data[\"x\"], data[\"y\"]).cetak()\n",
        "\n",
        "\n",
        "def cetakWD(b):\n",
        "    data = grid_data.ambilData()\n",
        "\n",
        "    with hasil_analisis:\n",
        "        hasil_analisis.clear_output()\n",
        "        WDRegresi(data[\"x\"], data[\"y\"]).cetak()\n",
        "\n",
        "\n",
        "butang_BAP.on_click(plotBA)\n",
        "butang_WLS.on_click(cetakWLS)\n",
        "butang_WD.on_click(cetakWD)\n",
        "\n",
        "\n",
        "display(widgets.HBox([butang_BAP, butang_WLS, butang_WD]))\n",
        "\n",
        "\n",
        "display(hasil_analisis)"
      ],
      "metadata": {
        "id": "QFzu2ajBy2Cp"
      },
      "execution_count": null,
      "outputs": []
    }
  ]
}